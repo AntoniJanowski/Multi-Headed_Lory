{
 "cells": [
  {
   "cell_type": "code",
   "execution_count": 9,
   "metadata": {},
   "outputs": [],
   "source": [
    "from model_classes import *\n",
    "import torch\n",
    "import torch.nn as nn\n",
    "from transformers import PretrainedConfig"
   ]
  },
  {
   "cell_type": "code",
   "execution_count": 10,
   "metadata": {},
   "outputs": [],
   "source": [
    "device = 'cuda' if torch.cuda.is_available() else 'cpu'"
   ]
  },
  {
   "cell_type": "markdown",
   "metadata": {},
   "source": [
    "Wszystkie informacje o modelu zawarte są w obiekcie config z hugging face'owej klasy Pretrained Config. Kiedy twożymy nowy transformer, podajemy mu jako argument tylko config. Musi on mieć parametr 'forward_layer_class' i to ma być klasa, którą chcemy mieć w transformerze (tzn lori albo moe itd). Ta klasa sama też ma dostawać tylko parametr config, więc ten config musi mieć wszystkie parametry potrzebne do funkcjonowania tej klasy. W kodzie klas używałem takich nazw parametrów jak w configu poniżej więc proszę ich nie zmieniać."
   ]
  },
  {
   "cell_type": "code",
   "execution_count": 11,
   "metadata": {},
   "outputs": [],
   "source": [
    "config = PretrainedConfig(\n",
    "    num_experts_per_token=2,\n",
    "    hidden_size=512,\n",
    "    num_attention_heads = 16,\n",
    "    num_experts=32,\n",
    "    batch_size = 16,\n",
    "    seq_len = 32,\n",
    "    capacity_factor = 8,\n",
    "    device = device,\n",
    "    intermediate_size = 1024,\n",
    "    forward_layer_class = VectorizedMoE,\n",
    "    vocab_size = 1000,\n",
    "    n_layers = 8\n",
    ")"
   ]
  },
  {
   "cell_type": "code",
   "execution_count": 12,
   "metadata": {},
   "outputs": [
    {
     "name": "stdout",
     "output_type": "stream",
     "text": [
      "torch.Size([16, 32, 512])\n"
     ]
    }
   ],
   "source": [
    "example_input = torch.rand((config.batch_size, config.seq_len, config.hidden_size))\n",
    "\n",
    "TransformerBlock_test = TransformerBlock(config)\n",
    "example_output = TransformerBlock_test(example_input)\n",
    "\n",
    "print(example_output.shape)"
   ]
  },
  {
   "cell_type": "code",
   "execution_count": 13,
   "metadata": {},
   "outputs": [
    {
     "name": "stdout",
     "output_type": "stream",
     "text": [
      "torch.Size([16, 32, 1000])\n"
     ]
    }
   ],
   "source": [
    "example_input_tokens = torch.randint(low = 0, high = config.vocab_size, size = (config.batch_size, config.seq_len))\n",
    "\n",
    "Transformer_test = Transformer(config)\n",
    "example_output_tokens = Transformer_test(example_input_tokens)\n",
    "\n",
    "print(example_output_tokens.shape)"
   ]
  },
  {
   "cell_type": "markdown",
   "metadata": {},
   "source": [
    "Tutaj sprawdzam czy model na pewno się dobrze zainicjował i czy różne warstwy mają różne parametry i wychodzi że tak"
   ]
  },
  {
   "cell_type": "code",
   "execution_count": 14,
   "metadata": {},
   "outputs": [
    {
     "name": "stdout",
     "output_type": "stream",
     "text": [
      "False\n",
      "False\n"
     ]
    }
   ],
   "source": [
    "l1 = Transformer_test.layers[0].forward_layer.first_linear\n",
    "l2 = Transformer_test.layers[4].forward_layer.first_linear\n",
    "\n",
    "a1 = Transformer_test.layers[0].attention.projector.query_transform.state_dict()['weight']\n",
    "a2 = Transformer_test.layers[4].attention.projector.query_transform.state_dict()['weight']\n",
    "\n",
    "print(torch.equal(l1, l2))\n",
    "print(torch.equal(a1, a2))"
   ]
  }
 ],
 "metadata": {
  "kernelspec": {
   "display_name": "Python 3",
   "language": "python",
   "name": "python3"
  },
  "language_info": {
   "codemirror_mode": {
    "name": "ipython",
    "version": 3
   },
   "file_extension": ".py",
   "mimetype": "text/x-python",
   "name": "python",
   "nbconvert_exporter": "python",
   "pygments_lexer": "ipython3",
   "version": "3.9.13"
  }
 },
 "nbformat": 4,
 "nbformat_minor": 2
}
