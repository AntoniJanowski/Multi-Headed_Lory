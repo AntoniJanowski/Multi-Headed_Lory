{
 "cells": [
  {
   "cell_type": "code",
   "execution_count": 24,
   "metadata": {},
   "outputs": [],
   "source": [
    "import sys\n",
    "import os\n",
    "\n",
    "main_dir = os.path.abspath(os.path.join(os.getcwd(), '..'))\n",
    "sys.path.append(main_dir)\n",
    "\n",
    "import model_classes\n",
    "from model_classes import *\n",
    "import torch\n",
    "from transformers import PretrainedConfig\n",
    "import torch.nn as nn\n",
    "import math\n",
    "import copy\n",
    "\n",
    "device = 'cuda' if torch.cuda.is_available() else 'cpu'\n",
    "\n",
    "\n",
    "# device = 'cpu'"
   ]
  },
  {
   "cell_type": "code",
   "execution_count": 177,
   "metadata": {},
   "outputs": [],
   "source": [
    "config = PretrainedConfig(\n",
    "    num_experts_per_token=2,\n",
    "    hidden_size=512,\n",
    "    num_attention_heads = 16,\n",
    "    num_MH_MOE_heads = 4,\n",
    "    num_experts=8,\n",
    "    batch_size = 1,\n",
    "    seq_len = 1024,\n",
    "    capacity_factor = 8,\n",
    "    device = device,\n",
    "    intermediate_size = 1024,\n",
    "    forward_layer_class = MH_Lori,\n",
    "    vocab_size = 100,\n",
    "    n_layers = 2,\n",
    "    no_lori_segments = 16,\n",
    ")"
   ]
  },
  {
   "cell_type": "code",
   "execution_count": 3,
   "metadata": {},
   "outputs": [],
   "source": [
    "# input shape: [batch size, no segments, num_heads, head_dim]\n",
    "# for every head, the router schould return weights for each expert, so:\n",
    "# output shape: [bs, no seq, num heads, num experts]\n",
    "class Router_mh_lori(nn.Module):\n",
    "    def __init__(self, config):\n",
    "        super().__init__()\n",
    "        self.config = config\n",
    "        self.hidden_size = int(config.hidden_size / config.num_MH_MOE_heads)\n",
    "        self.num_experts = config.num_experts\n",
    "        self.device = config.device\n",
    "        self.expert_embeddings = nn.Parameter(torch.randn(self.hidden_size, self.num_experts)).to(config.device)\n",
    "        torch.nn.init.kaiming_uniform_(self.expert_embeddings, nonlinearity='linear')\n",
    "\n",
    "    def forward(self, x):\n",
    "        dot = torch.einsum(\"bshd,de->bshe\", x, self.expert_embeddings)\n",
    "        res = torch.nn.functional.softmax(dot, dim=-1)\n",
    "        return res"
   ]
  },
  {
   "cell_type": "code",
   "execution_count": 208,
   "metadata": {},
   "outputs": [],
   "source": [
    "class MH_Lori(nn.Module):\n",
    "    def __init__(self, config):\n",
    "        super().__init__()\n",
    "        self.config = config\n",
    "\n",
    "        self.batch_size = config.batch_size\n",
    "        self.hidden_dim = config.hidden_size\n",
    "        self.seq_len = config.seq_len\n",
    "        self.num_heads = config.num_MH_MOE_heads\n",
    "        self.head_dim = int(config.hidden_size / config.num_MH_MOE_heads)\n",
    "        self.no_segments = config.no_lori_segments\n",
    "        self.segment_len = int(self.seq_len / self.no_segments)\n",
    "        self.device = config.device\n",
    "        \n",
    "\n",
    "        self.router = Router_mh_lori(config).to(self.device)\n",
    "\n",
    "        self.multi_head_layer = nn.Linear(self.hidden_dim, self.hidden_dim).to(self.device)\n",
    "        self.merge_layer = nn.Linear(self.hidden_dim, self.hidden_dim).to(self.device)\n",
    "        # Initialization\n",
    "        nn.init.xavier_uniform_(self.multi_head_layer.weight, gain=1 / math.sqrt(2))\n",
    "        nn.init.xavier_uniform_(self.merge_layer.weight)\n",
    "        nn.init.constant_(self.merge_layer.bias, 0.0)\n",
    "\n",
    "        self.num_experts = config.num_experts\n",
    "        self.intermediate_size = config.intermediate_size\n",
    "\n",
    "        self.first_linear = nn.Parameter(torch.randn((self.num_experts, self.intermediate_size, self.head_dim))).to(config.device)\n",
    "        torch.nn.init.kaiming_uniform_(self.first_linear, nonlinearity='linear')\n",
    "        self.second_linear = nn.Parameter(torch.randn((self.num_experts, self.head_dim, self.intermediate_size))).to(config.device)\n",
    "        torch.nn.init.kaiming_uniform_(self.second_linear, nonlinearity='linear')\n",
    "\n",
    "    def forward(self, x):\n",
    "        #x.shape = [batch size, seq len, hidden dim]\n",
    "        x = self.multi_head_layer(x) \n",
    "        #x.shape = [batch size, seq len, hidden dim]\n",
    "        x = x.reshape(self.batch_size, self.seq_len, self.num_heads, self.head_dim).contiguous()\n",
    "        #Dividing into lori segments\n",
    "        x = x.reshape(self.batch_size, self.no_segments, self.segment_len, self.num_heads, self.head_dim).contiguous()\n",
    "        average_segment_embedding = torch.mean(x, dim = 2).to(self.device)\n",
    "        # average_segment_embedding.size = [batch size, no segments, num_heads, head_dim]\n",
    "        expert_weights = self.router(average_segment_embedding).to(self.device)\n",
    "        # expert_weights shape = [bs, no seq, num heads, num experts]\n",
    "        # calculating merged experts\n",
    "        expert_weights = expert_weights.reshape(self.num_experts, 1, 1, self.no_segments, self.num_heads, self.batch_size) \n",
    "        merged_experts_1 = self.first_linear.reshape(self.num_experts, self.intermediate_size, self.head_dim, 1, 1, 1)\n",
    "        merged_experts_1 = (merged_experts_1 * expert_weights).sum(dim = 0)\n",
    "        merged_experts_1 = merged_experts_1.reshape(self.batch_size, self.no_segments, self.num_heads, self.intermediate_size, self.head_dim)\n",
    "        print(f'merged expert 1 parameter count: {torch.numel(merged_experts_1):,}')\n",
    "        merged_experts_1 = merged_experts_1[:, :-1, :, :, :] #we discard the last segment as expert created for it is never used\n",
    "\n",
    "        merged_experts_2 = self.second_linear.reshape(self.num_experts, self.head_dim, self.intermediate_size, 1, 1, 1)\n",
    "        merged_experts_2 = (merged_experts_2 * expert_weights).sum(dim = 0)\n",
    "        merged_experts_2 = merged_experts_2.reshape(self.batch_size, self.no_segments, self.num_heads, self.head_dim, self.intermediate_size)\n",
    "        merged_experts_2 = merged_experts_2[:, :-1, :, :, :]\n",
    "        \n",
    "        # process x by experts\n",
    "        x = x.reshape(self.batch_size, self.no_segments, self.num_heads, self.segment_len, self.head_dim).contiguous()\n",
    "        x_causal = x[:, 1:, :, :, :]\n",
    "        # process segments s>1 throuth which gradient flows\n",
    "        result = torch.einsum(\"bnhld,bnhid->bnhli\", x_causal, merged_experts_1)\n",
    "        result = nn.functional.relu(result, inplace=False)\n",
    "        result = torch.einsum(\"bnhli,bnhdi->bnhld\", result, merged_experts_2)\n",
    "        # process segment s=1 without gradient\n",
    "\n",
    "        with torch.no_grad():\n",
    "            segment_1 = x[:, 0, :, :, :]\n",
    "            expert_segment_1 = merged_experts_1[:, 0, :, :, :]\n",
    "            expert_segment_2 = merged_experts_2[:, 0, :, :, :]\n",
    "\n",
    "            result_segment_1 = torch.einsum(\"bhld,bhid->bhli\", segment_1, expert_segment_1)\n",
    "            result_segment_1 = nn.functional.relu(result_segment_1, inplace=False)\n",
    "            result_segment_1 = torch.einsum(\"bhli,bhdi->bhld\", result_segment_1, expert_segment_2)\n",
    "\n",
    "            result_segment_1 = result_segment_1.unsqueeze(1)\n",
    "\n",
    "        # concatenate processed segments\n",
    "        result = torch.cat((result_segment_1, result), dim = 1)\n",
    "\n",
    "        # reshape back into orginal shape\n",
    "        result = result.reshape(self.batch_size, self.no_segments * self.segment_len, self.num_heads, self.head_dim)\n",
    "        result = result.reshape(self.batch_size, self.no_segments * self.segment_len, self.hidden_dim)\n",
    "        result = self.merge_layer(result)\n",
    "\n",
    "        return result\n",
    "    \n",
    "    def test_if_reshaping_works(self, x):\n",
    "        input = x\n",
    "        x = x.reshape(self.batch_size, self.seq_len, self.num_heads, self.head_dim).contiguous()\n",
    "        x = x.reshape(self.batch_size, self.no_segments, self.segment_len, self.num_heads, self.head_dim).contiguous()\n",
    "        x = x.reshape(self.batch_size, self.no_segments, self.num_heads, self.segment_len, self.head_dim).contiguous()\n",
    "        result = x\n",
    "        result = result.reshape(self.batch_size, self.no_segments * self.segment_len, self.num_heads, self.head_dim)\n",
    "        result = result.reshape(self.batch_size, self.no_segments * self.segment_len, self.hidden_dim)\n",
    "        print(torch.equal(result, input))\n",
    "\n",
    "\n",
    "# with torch.no_grad():\n",
    "#     test_input = torch.rand((config.batch_size, config.seq_len, config.hidden_size))\n",
    "#     print('input shape: ', test_input.shape)\n",
    "#     mh_lori = MH_Lori(config)\n",
    "#     output = mh_lori(test_input)\n",
    "#     print(output.shape)\n",
    "#     mh_lori.test_if_reshaping_works(test_input)"
   ]
  },
  {
   "cell_type": "code",
   "execution_count": 178,
   "metadata": {},
   "outputs": [],
   "source": [
    "#test how it works when I conect few of these\n",
    "class test_model(nn.Module):\n",
    "    def __init__(self, config):\n",
    "        super().__init__()\n",
    "        self.loris = nn.ModuleList([MH_Lori(config) for _ in range(config.n_layers)])\n",
    "    def forward(self, x):\n",
    "        for i, l in enumerate(self.loris):\n",
    "            x = l(x)\n",
    "        return x\n",
    "    \n",
    "mh_lori = test_model(config)"
   ]
  },
  {
   "cell_type": "code",
   "execution_count": 179,
   "metadata": {},
   "outputs": [
    {
     "name": "stdout",
     "output_type": "stream",
     "text": [
      "input shape:  torch.Size([1, 1024, 512])\n",
      "merged expert 1 parameter count: 8,388,608\n",
      "merged expert 1 parameter count: 8,388,608\n",
      "torch.Size([1, 1024, 512])\n"
     ]
    }
   ],
   "source": [
    "with torch.no_grad():\n",
    "    test_input = torch.rand((config.batch_size, config.seq_len, config.hidden_size)).to(device)\n",
    "    print('input shape: ', test_input.shape)\n",
    "    output = mh_lori(test_input)\n",
    "    print(output.shape)\n",
    "\n",
    "# test_input = torch.rand((config.batch_size, config.seq_len, config.hidden_size)).to(device)\n",
    "# print('input shape: ', test_input.shape)\n",
    "# output = mh_lori(test_input)\n",
    "# print(output.shape)"
   ]
  },
  {
   "cell_type": "code",
   "execution_count": 180,
   "metadata": {},
   "outputs": [
    {
     "name": "stdout",
     "output_type": "stream",
     "text": [
      "Number of parameters: 1,050,624\n"
     ]
    }
   ],
   "source": [
    "model = mh_lori\n",
    "total_params = sum(p.numel() for p in model.parameters())\n",
    "print(f\"Number of parameters: {total_params:,}\")\n"
   ]
  },
  {
   "cell_type": "code",
   "execution_count": 172,
   "metadata": {},
   "outputs": [
    {
     "name": "stdout",
     "output_type": "stream",
     "text": [
      "Total GPU memory: 12.8843776 GB\n",
      "Reserved GPU memory: 7.333740544 GB\n",
      "Allocated GPU memory: 0.271997952 GB\n",
      "Free GPU memory: 7.061742592 GB\n"
     ]
    }
   ],
   "source": [
    "import torch\n",
    "\n",
    "def get_gpu_memory():\n",
    "    if torch.cuda.is_available():\n",
    "        total_memory = torch.cuda.get_device_properties(0).total_memory\n",
    "        reserved_memory = torch.cuda.memory_reserved(0)\n",
    "        allocated_memory = torch.cuda.memory_allocated(0)\n",
    "        free_memory = reserved_memory - allocated_memory\n",
    "\n",
    "        print(f\"Total GPU memory: {total_memory / 1e9} GB\")\n",
    "        print(f\"Reserved GPU memory: {reserved_memory / 1e9} GB\")\n",
    "        print(f\"Allocated GPU memory: {allocated_memory / 1e9} GB\")\n",
    "        print(f\"Free GPU memory: {free_memory / 1e9} GB\")\n",
    "    else:\n",
    "        print(\"No GPU available.\")\n",
    "\n",
    "get_gpu_memory()\n",
    "output = output.detach()\n",
    "# torch.cuda.empty_cache()\n"
   ]
  },
  {
   "cell_type": "code",
   "execution_count": 152,
   "metadata": {},
   "outputs": [
    {
     "name": "stdout",
     "output_type": "stream",
     "text": [
      "Estimated Model Size: 12.42 MB, total number of parameters: 13,021,584\n"
     ]
    }
   ],
   "source": [
    "def estimate_model_size(model):\n",
    "    total_params = sum(p.numel() for p in model.parameters())\n",
    "    total_buffers = sum(b.numel() for b in model.buffers())\n",
    "    \n",
    "    # Assuming float32 (4 bytes) for parameters and buffers\n",
    "    model_size = (total_params + total_buffers) * 4\n",
    "    print(f\"Estimated Model Size: {model_size / (1024 ** 2):.2f} MB, total number of parameters: {model_size:,}\")\n",
    "    return model_size\n",
    "\n",
    "\n",
    "model = mh_lori\n",
    "\n",
    "\n",
    "model_size = estimate_model_size(model)\n",
    "# print(f\"Estimated Model Size: {model_size / (1024 ** 2):.2f} MB\")\n"
   ]
  },
  {
   "cell_type": "code",
   "execution_count": 182,
   "metadata": {},
   "outputs": [],
   "source": [
    "config_Transformer = PretrainedConfig(\n",
    "    num_experts_per_token=2,\n",
    "    hidden_size=256,\n",
    "    num_attention_heads = 16,\n",
    "    num_MH_MOE_heads = 4,\n",
    "    num_experts=8,\n",
    "    batch_size = 1,\n",
    "    seq_len = 1024,\n",
    "    capacity_factor = 8,\n",
    "    device = device,\n",
    "    intermediate_size = 2048,\n",
    "    forward_layer_class = MH_Lori,\n",
    "    vocab_size = 100,\n",
    "    n_layers = 1,\n",
    "    no_lori_segments = 64,\n",
    ")"
   ]
  },
  {
   "cell_type": "code",
   "execution_count": 205,
   "metadata": {},
   "outputs": [],
   "source": [
    "mh_lori = Transformer(config_Transformer)\n",
    "mh_lori_singular = MH_Lori(config_Transformer)"
   ]
  },
  {
   "cell_type": "code",
   "execution_count": 206,
   "metadata": {},
   "outputs": [
    {
     "name": "stdout",
     "output_type": "stream",
     "text": [
      "Estimated Model Size: 1.51 MB, total number of parameters: 1,580,032\n",
      "Estimated Model Size: 0.50 MB, total number of parameters: 526,336\n",
      "Estimated Model Size: 0.50 MB, total number of parameters: 526,336\n"
     ]
    },
    {
     "data": {
      "text/plain": [
       "526336"
      ]
     },
     "execution_count": 206,
     "metadata": {},
     "output_type": "execute_result"
    }
   ],
   "source": [
    "estimate_model_size(mh_lori.layers)\n",
    "estimate_model_size(mh_lori.layers[0].forward_layer)\n",
    "estimate_model_size(mh_lori_singular)"
   ]
  },
  {
   "cell_type": "code",
   "execution_count": 207,
   "metadata": {},
   "outputs": [
    {
     "data": {
      "text/plain": [
       "torch.Tensor"
      ]
     },
     "execution_count": 207,
     "metadata": {},
     "output_type": "execute_result"
    }
   ],
   "source": [
    "type(mh_lori_singular.first_linear)"
   ]
  },
  {
   "cell_type": "code",
   "execution_count": 198,
   "metadata": {},
   "outputs": [
    {
     "name": "stdout",
     "output_type": "stream",
     "text": [
      "<class 'torch.nn.parameter.Parameter'> torch.Size([256, 256])\n",
      "<class 'torch.nn.parameter.Parameter'> torch.Size([256])\n",
      "<class 'torch.nn.parameter.Parameter'> torch.Size([256, 256])\n",
      "<class 'torch.nn.parameter.Parameter'> torch.Size([256])\n"
     ]
    }
   ],
   "source": [
    "for m in mh_lori_singular.parameters():\n",
    "    print(type(m), m.shape)"
   ]
  },
  {
   "cell_type": "code",
   "execution_count": 191,
   "metadata": {},
   "outputs": [
    {
     "name": "stdout",
     "output_type": "stream",
     "text": [
      "Estimated Model Size: 0.00 MB, total number of parameters: 0\n",
      "Estimated Model Size: 0.25 MB, total number of parameters: 263,168\n",
      "Estimated Model Size: 0.25 MB, total number of parameters: 263,168\n"
     ]
    },
    {
     "ename": "AttributeError",
     "evalue": "'Tensor' object has no attribute 'parameters'",
     "output_type": "error",
     "traceback": [
      "\u001b[1;31m---------------------------------------------------------------------------\u001b[0m",
      "\u001b[1;31mAttributeError\u001b[0m                            Traceback (most recent call last)",
      "Cell \u001b[1;32mIn[191], line 4\u001b[0m\n\u001b[0;32m      2\u001b[0m estimate_model_size(mh_lori_singular\u001b[38;5;241m.\u001b[39mloris[\u001b[38;5;241m0\u001b[39m]\u001b[38;5;241m.\u001b[39mmerge_layer)\n\u001b[0;32m      3\u001b[0m estimate_model_size(mh_lori_singular\u001b[38;5;241m.\u001b[39mloris[\u001b[38;5;241m0\u001b[39m]\u001b[38;5;241m.\u001b[39mmulti_head_layer)\n\u001b[1;32m----> 4\u001b[0m \u001b[43mestimate_model_size\u001b[49m\u001b[43m(\u001b[49m\u001b[43mmh_lori_singular\u001b[49m\u001b[38;5;241;43m.\u001b[39;49m\u001b[43mloris\u001b[49m\u001b[43m[\u001b[49m\u001b[38;5;241;43m0\u001b[39;49m\u001b[43m]\u001b[49m\u001b[38;5;241;43m.\u001b[39;49m\u001b[43mfirst_linear\u001b[49m\u001b[43m)\u001b[49m\n",
      "Cell \u001b[1;32mIn[152], line 2\u001b[0m, in \u001b[0;36mestimate_model_size\u001b[1;34m(model)\u001b[0m\n\u001b[0;32m      1\u001b[0m \u001b[38;5;28;01mdef\u001b[39;00m \u001b[38;5;21mestimate_model_size\u001b[39m(model):\n\u001b[1;32m----> 2\u001b[0m     total_params \u001b[38;5;241m=\u001b[39m \u001b[38;5;28msum\u001b[39m(p\u001b[38;5;241m.\u001b[39mnumel() \u001b[38;5;28;01mfor\u001b[39;00m p \u001b[38;5;129;01min\u001b[39;00m \u001b[43mmodel\u001b[49m\u001b[38;5;241;43m.\u001b[39;49m\u001b[43mparameters\u001b[49m())\n\u001b[0;32m      3\u001b[0m     total_buffers \u001b[38;5;241m=\u001b[39m \u001b[38;5;28msum\u001b[39m(b\u001b[38;5;241m.\u001b[39mnumel() \u001b[38;5;28;01mfor\u001b[39;00m b \u001b[38;5;129;01min\u001b[39;00m model\u001b[38;5;241m.\u001b[39mbuffers())\n\u001b[0;32m      5\u001b[0m     \u001b[38;5;66;03m# Assuming float32 (4 bytes) for parameters and buffers\u001b[39;00m\n",
      "\u001b[1;31mAttributeError\u001b[0m: 'Tensor' object has no attribute 'parameters'"
     ]
    }
   ],
   "source": [
    "estimate_model_size(mh_lori_singular.loris[0].router)\n",
    "estimate_model_size(mh_lori_singular.loris[0].merge_layer)\n",
    "estimate_model_size(mh_lori_singular.loris[0].multi_head_layer)\n",
    "estimate_model_size(mh_lori_singular.loris[0].first_linear)"
   ]
  }
 ],
 "metadata": {
  "kernelspec": {
   "display_name": "Python 3",
   "language": "python",
   "name": "python3"
  },
  "language_info": {
   "codemirror_mode": {
    "name": "ipython",
    "version": 3
   },
   "file_extension": ".py",
   "mimetype": "text/x-python",
   "name": "python",
   "nbconvert_exporter": "python",
   "pygments_lexer": "ipython3",
   "version": "3.10.3"
  }
 },
 "nbformat": 4,
 "nbformat_minor": 2
}
