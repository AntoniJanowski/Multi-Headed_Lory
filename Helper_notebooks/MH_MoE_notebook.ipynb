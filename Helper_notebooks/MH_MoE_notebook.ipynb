{
 "cells": [
  {
   "cell_type": "code",
   "execution_count": 16,
   "metadata": {},
   "outputs": [],
   "source": [
    "import sys\n",
    "import os\n",
    "\n",
    "main_dir = os.path.abspath(os.path.join(os.getcwd(), '..'))\n",
    "sys.path.append(main_dir)\n",
    "\n",
    "import model_classes\n",
    "import torch\n",
    "from transformers import PretrainedConfig\n",
    "import torch.nn as nn\n",
    "import math\n",
    "import copy\n",
    "\n",
    "device = 'cuda' if torch.cuda.is_available() else 'cpu'"
   ]
  },
  {
   "cell_type": "code",
   "execution_count": 34,
   "metadata": {},
   "outputs": [],
   "source": [
    "config = PretrainedConfig(\n",
    "    num_experts_per_token=2,\n",
    "    hidden_size=512,\n",
    "    num_attention_heads = 16,\n",
    "    num_MH_MOE_heads = 8,\n",
    "    num_experts=32,\n",
    "    batch_size = 16,\n",
    "    seq_len = 32,\n",
    "    capacity_factor = 8,\n",
    "    device = device,\n",
    "    intermediate_size = 1024,\n",
    "    forward_layer_class = VectorizedMoE,\n",
    "    vocab_size = 1000,\n",
    "    n_layers = 8\n",
    ")"
   ]
  },
  {
   "cell_type": "code",
   "execution_count": 60,
   "metadata": {},
   "outputs": [],
   "source": [
    "class MH_MoE(nn.Module):\n",
    "    def __init__(self, config):\n",
    "        super().__init__()\n",
    "        self.config = config\n",
    "        self.hidden_dim = config.hidden_size\n",
    "        self.num_heads = config.num_MH_MOE_heads\n",
    "        self.no_of_MOE_input_tokens = config.seq_len * config.num_MH_MOE_heads\n",
    "        self.head_dim = int(config.hidden_size / config.num_MH_MOE_heads)\n",
    "\n",
    "        self.multi_head_layer = nn.Linear(self.hidden_dim, self.hidden_dim)\n",
    "        self.merge_layer = nn.Linear(self.hidden_dim, self.hidden_dim)\n",
    "        # Initialization\n",
    "        nn.init.xavier_uniform_(self.multi_head_layer.weight, gain=1 / math.sqrt(2))\n",
    "        nn.init.xavier_uniform_(self.merge_layer.weight)\n",
    "        nn.init.constant_(self.merge_layer.bias, 0.0)\n",
    "\n",
    "        #creating a new config for nested moe\n",
    "        nested_moe_config = copy.deepcopy(config)\n",
    "        nested_moe_config.hidden_size = int(self.head_dim)\n",
    "        nested_moe_config.seq_len = int(self.no_of_MOE_input_tokens)\n",
    "\n",
    "        self.nested_moe = VectorizedMoE(nested_moe_config)\n",
    "\n",
    "    def forward(self, x):\n",
    "        config = self.config\n",
    "        x = self.multi_head_layer(x)\n",
    "        x = x.reshape(config.batch_size, self.no_of_MOE_input_tokens, self.head_dim).contiguous()\n",
    "        x = self.nested_moe(x)\n",
    "        x = x.reshape(config.batch_size, config.seq_len, config.num_MH_MOE_heads,\n",
    "                       self.head_dim).reshape(config.batch_size, config.seq_len, config.hidden_size).contiguous()\n",
    "        x = self.merge_layer(x)\n",
    "        return x\n",
    "    \n",
    "    def test_if_without_moe_it_works_well(self, x): #ta funkcja jest tu tylko po to, że sprawdziłem czy te reshapy działają dobrze\n",
    "        config = self.config\n",
    "        input = x\n",
    "\n",
    "        # x = self.multi_head_layer(x)\n",
    "        x = x.reshape(config.batch_size, self.no_of_MOE_input_tokens, self.head_dim).contiguous()\n",
    "        # x = self.nested_moe(x)\n",
    "        x = x.reshape(config.batch_size, config.seq_len, config.num_MH_MOE_heads,\n",
    "                       self.head_dim).reshape(config.batch_size, config.seq_len, config.hidden_size).contiguous()\n",
    "        # x = self.merge_layer(x)\n",
    "\n",
    "        print('It should return the same tensor, does it?', torch.equal(input, x), torch.max(abs((x - input).detach())))\n",
    "        "
   ]
  },
  {
   "cell_type": "code",
   "execution_count": 61,
   "metadata": {},
   "outputs": [
    {
     "name": "stdout",
     "output_type": "stream",
     "text": [
      "torch.Size([16, 32, 512])\n",
      "It should return the same tensor, does it? True tensor(0.)\n"
     ]
    }
   ],
   "source": [
    "test_mh = MH_MoE(config)\n",
    "test_input = torch.rand((config.batch_size, config.seq_len, config.hidden_size))\n",
    "output = test_mh(test_input)\n",
    "print(output.shape)\n",
    "test_mh.test_if_without_moe_it_works_well(test_input)"
   ]
  }
 ],
 "metadata": {
  "kernelspec": {
   "display_name": "Python 3",
   "language": "python",
   "name": "python3"
  },
  "language_info": {
   "codemirror_mode": {
    "name": "ipython",
    "version": 3
   },
   "file_extension": ".py",
   "mimetype": "text/x-python",
   "name": "python",
   "nbconvert_exporter": "python",
   "pygments_lexer": "ipython3",
   "version": "3.9.13"
  }
 },
 "nbformat": 4,
 "nbformat_minor": 2
}
