{
 "cells": [
  {
   "cell_type": "code",
   "execution_count": 1,
   "metadata": {},
   "outputs": [
    {
     "name": "stderr",
     "output_type": "stream",
     "text": [
      "c:\\Users\\miria\\anaconda3\\envs\\integrated_env\\Lib\\site-packages\\tqdm\\auto.py:21: TqdmWarning: IProgress not found. Please update jupyter and ipywidgets. See https://ipywidgets.readthedocs.io/en/stable/user_install.html\n",
      "  from .autonotebook import tqdm as notebook_tqdm\n"
     ]
    }
   ],
   "source": [
    "import sys\n",
    "import os\n",
    "\n",
    "main_dir = os.path.abspath(os.path.join(os.getcwd(), '..'))\n",
    "sys.path.append(main_dir)\n",
    "\n",
    "import model_classes\n",
    "from model_classes import *\n",
    "from MH_Lori import *\n",
    "from MH_MoE import *\n",
    "from dataloader import *\n",
    "import dataloader\n",
    "from helper_functions import *\n",
    "import torch\n",
    "from transformers import PretrainedConfig\n",
    "import torch.nn as nn\n",
    "import math\n",
    "import copy\n",
    "import lightning.pytorch as pl\n",
    "# from pytorch_lightning.callbacks import ModelCheckpoint\n",
    "from lightning.pytorch.callbacks import ModelCheckpoint\n",
    "\n",
    "device = 'cuda' if torch.cuda.is_available() else 'cpu'"
   ]
  },
  {
   "cell_type": "code",
   "execution_count": 2,
   "metadata": {},
   "outputs": [],
   "source": [
    "config_small= PretrainedConfig(\n",
    "    num_experts_per_token=2,\n",
    "    hidden_size=128,\n",
    "    num_attention_heads = 8,\n",
    "    num_MH_MOE_heads = 4,\n",
    "    num_experts=12,\n",
    "    batch_size = 16,\n",
    "    seq_len = 512,\n",
    "    capacity_factor = 3,\n",
    "    device = device,\n",
    "    intermediate_size = 256,\n",
    "    forward_layer_class = MH_MoE,\n",
    "    vocab_size = 30522,\n",
    "    n_layers = 8,\n",
    "    no_lori_segments = 32,\n",
    "    py_lightning_loging = False,\n",
    "    loss_fn = torch.nn.CrossEntropyLoss(),\n",
    "    lr = 0.0006, #SET TO 0.0002\n",
    "    betas = (0.9, 0.95),\n",
    "    treat_mh_lori_as_regular_lori = False,\n",
    "    load_balancing_coefficient=0,\n",
    "    proportions = [0.4, 0.4, 0.2]\n",
    ")\n",
    "\n",
    "config = config_small"
   ]
  },
  {
   "cell_type": "code",
   "execution_count": 3,
   "metadata": {},
   "outputs": [
    {
     "name": "stderr",
     "output_type": "stream",
     "text": [
      "Token indices sequence length is longer than the specified maximum sequence length for this model (766 > 512). Running this sequence through the model will result in indexing errors\n"
     ]
    },
    {
     "data": {
      "text/plain": [
       "torch.Size([16, 513])"
      ]
     },
     "execution_count": 3,
     "metadata": {},
     "output_type": "execute_result"
    }
   ],
   "source": [
    "# example of usage:\n",
    "l = give_dataloaders(batch_size = config.batch_size, seq_len = config.seq_len + 1, proportions = config.proportions, development=True)\n",
    "train_dataloader_a = l[\"train_dataloader\"]\n",
    "train_dataloader_b = l[\"val_dataloader\"]\n",
    "test_dataloader = l[\"test_dataloader\"]\n",
    "sample = next(iter(train_dataloader_a))\n",
    "# print(sample)\n",
    "sample.shape"
   ]
  },
  {
   "cell_type": "code",
   "execution_count": 4,
   "metadata": {},
   "outputs": [
    {
     "name": "stdout",
     "output_type": "stream",
     "text": [
      "Estimated Model Size: 38.96 MB, total number of parameters: 40,854,760\n",
      "Estimated Model Size: 9.04 MB, total number of parameters: 9,478,144\n",
      "Estimated Model Size: 0.88 MB, total number of parameters: 920,064\n",
      "No GPU available.\n"
     ]
    }
   ],
   "source": [
    "mh_lori = Transformer(config_small).to(config_small.device)\n",
    "estimate_model_size(mh_lori)\n",
    "estimate_model_size(mh_lori.layers)\n",
    "estimate_model_size(mh_lori.layers[0].forward_layer)\n",
    "get_gpu_memory()"
   ]
  },
  {
   "cell_type": "code",
   "execution_count": 5,
   "metadata": {},
   "outputs": [
    {
     "name": "stderr",
     "output_type": "stream",
     "text": [
      "GPU available: False, used: False\n",
      "TPU available: False, using: 0 TPU cores\n",
      "HPU available: False, using: 0 HPUs\n",
      "\n",
      "  | Name       | Type             | Params | Mode \n",
      "--------------------------------------------------------\n",
      "0 | loss_fn    | CrossEntropyLoss | 0      | train\n",
      "1 | embedding  | Embedding        | 3.9 M  | train\n",
      "2 | layers     | ModuleList       | 2.4 M  | train\n",
      "3 | final_proj | Linear           | 3.9 M  | train\n",
      "--------------------------------------------------------\n",
      "10.2 M    Trainable params\n",
      "0         Non-trainable params\n",
      "10.2 M    Total params\n",
      "40.855    Total estimated model params size (MB)\n"
     ]
    },
    {
     "name": "stdout",
     "output_type": "stream",
     "text": [
      "Sanity Checking: |          | 0/? [00:00<?, ?it/s]"
     ]
    },
    {
     "name": "stderr",
     "output_type": "stream",
     "text": [
      "c:\\Users\\miria\\anaconda3\\envs\\integrated_env\\Lib\\site-packages\\lightning\\pytorch\\trainer\\connectors\\data_connector.py:424: The 'val_dataloader' does not have many workers which may be a bottleneck. Consider increasing the value of the `num_workers` argument` to `num_workers=7` in the `DataLoader` to improve performance.\n"
     ]
    },
    {
     "name": "stdout",
     "output_type": "stream",
     "text": [
      "Sanity Checking DataLoader 0:   0%|          | 0/2 [00:00<?, ?it/s]   VALIDATION: Batch 0, loss 10.493735313415527\n",
      "Sanity Checking DataLoader 0:  50%|█████     | 1/2 [00:11<00:11,  0.09it/s]   VALIDATION: Batch 1, loss 10.540153503417969\n",
      "                                                                           \r"
     ]
    },
    {
     "name": "stderr",
     "output_type": "stream",
     "text": [
      "c:\\Users\\miria\\anaconda3\\envs\\integrated_env\\Lib\\site-packages\\lightning\\pytorch\\trainer\\connectors\\data_connector.py:424: The 'train_dataloader' does not have many workers which may be a bottleneck. Consider increasing the value of the `num_workers` argument` to `num_workers=7` in the `DataLoader` to improve performance.\n"
     ]
    },
    {
     "name": "stdout",
     "output_type": "stream",
     "text": [
      "Epoch 0: |          | 0/? [00:00<?, ?it/s]    TRRAINING: Batch 0, loss 10.507697105407715\n",
      "Epoch 0: |          | 1/? [00:25<00:00,  0.04it/s, v_num=5]   TRRAINING: Batch 1, loss 10.439556121826172\n"
     ]
    },
    {
     "name": "stderr",
     "output_type": "stream",
     "text": [
      "c:\\Users\\miria\\anaconda3\\envs\\integrated_env\\Lib\\site-packages\\lightning\\pytorch\\trainer\\call.py:54: Detected KeyboardInterrupt, attempting graceful shutdown...\n"
     ]
    }
   ],
   "source": [
    "torch.set_float32_matmul_precision(\"medium\")\n",
    "os.environ['CUDA_LAUNCH_BLOCKING'] = '1'\n",
    "\n",
    "# Define the checkpoint callback to save the model every 1000 batches\n",
    "checkpoint_callback = ModelCheckpoint(\n",
    "    dirpath='saved_models',  # Directory to save the checkpoints\n",
    "    filename='MH_Lori_dataloader_a-{epoch}-{step}',  # Filename pattern\n",
    "    save_top_k=-1,  # Save all models\n",
    "    save_weights_only=False,  # Save only the weights (or set to False to save the full model)\n",
    "    every_n_train_steps=500  # Save the model every 1000 batches\n",
    ")\n",
    "\n",
    "# Initialize the trainer with the checkpoint callback\n",
    "trainer = pl.Trainer(\n",
    "    callbacks=[checkpoint_callback],\n",
    "    max_epochs=30  # Set the number of epochs\n",
    ")\n",
    "\n",
    "\n",
    "trainer.fit(model = mh_lori, train_dataloaders=train_dataloader_a, val_dataloaders=train_dataloader_b)"
   ]
  },
  {
   "cell_type": "code",
   "execution_count": null,
   "metadata": {},
   "outputs": [
    {
     "name": "stderr",
     "output_type": "stream",
     "text": [
      "GPU available: True (cuda), used: True\n",
      "TPU available: False, using: 0 TPU cores\n",
      "IPU available: False, using: 0 IPUs\n",
      "HPU available: False, using: 0 HPUs\n",
      "LOCAL_RANK: 0 - CUDA_VISIBLE_DEVICES: [0]\n",
      "\n",
      "  | Name       | Type             | Params\n",
      "------------------------------------------------\n",
      "0 | loss_fn    | CrossEntropyLoss | 0     \n",
      "1 | embedding  | Embedding        | 3.9 M \n",
      "2 | layers     | ModuleList       | 2.4 M \n",
      "3 | final_proj | Linear           | 3.9 M \n",
      "------------------------------------------------\n",
      "10.2 M    Trainable params\n",
      "0         Non-trainable params\n",
      "10.2 M    Total params\n",
      "40.855    Total estimated model params size (MB)\n"
     ]
    },
    {
     "name": "stdout",
     "output_type": "stream",
     "text": [
      "Epoch 0: |          | 0/? [00:00<?, ?it/s]    TRRAINING: Batch 0, loss 7.754574775695801\n",
      "Epoch 0: |          | 1/? [00:00<00:00,  1.49it/s, v_num=53]   TRRAINING: Batch 1, loss 7.893613815307617\n",
      "Epoch 0: |          | 2/? [00:01<00:00,  1.41it/s, v_num=53]   TRRAINING: Batch 2, loss 7.7666120529174805\n",
      "Epoch 0: |          | 3/? [00:02<00:00,  1.39it/s, v_num=53]   TRRAINING: Batch 3, loss 7.839859485626221\n",
      "Epoch 0: |          | 4/? [00:02<00:00,  1.37it/s, v_num=53]   TRRAINING: Batch 4, loss 7.731955528259277\n",
      "Epoch 0: |          | 5/? [00:03<00:00,  1.36it/s, v_num=53]   TRRAINING: Batch 5, loss 7.096835136413574\n",
      "Epoch 0: |          | 6/? [00:04<00:00,  1.36it/s, v_num=53]   TRRAINING: Batch 6, loss 7.770885467529297\n",
      "Epoch 0: |          | 7/? [00:05<00:00,  1.35it/s, v_num=53]   TRRAINING: Batch 7, loss 7.613646507263184\n",
      "Epoch 0: |          | 8/? [00:05<00:00,  1.35it/s, v_num=53]   TRRAINING: Batch 8, loss 7.551409721374512\n",
      "Epoch 0: |          | 9/? [00:06<00:00,  1.35it/s, v_num=53]   TRRAINING: Batch 9, loss 7.474361896514893\n",
      "Epoch 0: |          | 10/? [00:07<00:00,  1.35it/s, v_num=53]   TRRAINING: Batch 10, loss 7.452425003051758\n",
      "Epoch 0: |          | 11/? [00:08<00:00,  1.35it/s, v_num=53]   TRRAINING: Batch 11, loss 8.03191089630127\n",
      "Epoch 0: |          | 12/? [00:08<00:00,  1.35it/s, v_num=53]"
     ]
    },
    {
     "name": "stderr",
     "output_type": "stream",
     "text": [
      "c:\\Users\\Komputer\\AppData\\Local\\Programs\\Python\\Python310\\lib\\site-packages\\lightning\\pytorch\\trainer\\call.py:54: Detected KeyboardInterrupt, attempting graceful shutdown...\n"
     ]
    }
   ],
   "source": [
    "torch.set_float32_matmul_precision(\"medium\")\n",
    "os.environ['CUDA_LAUNCH_BLOCKING'] = '1'\n",
    "\n",
    "# Define the checkpoint callback to save the model every 1000 batches\n",
    "checkpoint_callback = ModelCheckpoint(\n",
    "    dirpath='saved_models',  # Directory to save the checkpoints\n",
    "    filename='MH_Lori_dataloader_b-{epoch}-{step}',  # Filename pattern\n",
    "    save_top_k=-1,  # Save all models\n",
    "    save_weights_only=False,  # Save only the weights (or set to False to save the full model)\n",
    "    every_n_train_steps=500  # Save the model every 1000 batches\n",
    ")\n",
    "\n",
    "# Initialize the trainer with the checkpoint callback\n",
    "trainer = pl.Trainer(\n",
    "    callbacks=[checkpoint_callback],\n",
    "    max_epochs=30  # Set the number of epochs\n",
    ")\n",
    "\n",
    "\n",
    "trainer.fit(model = mh_lori, train_dataloaders=train_dataloader_b)"
   ]
  }
 ],
 "metadata": {
  "kernelspec": {
   "display_name": "Python 3",
   "language": "python",
   "name": "python3"
  },
  "language_info": {
   "codemirror_mode": {
    "name": "ipython",
    "version": 3
   },
   "file_extension": ".py",
   "mimetype": "text/x-python",
   "name": "python",
   "nbconvert_exporter": "python",
   "pygments_lexer": "ipython3",
   "version": "3.12.2"
  }
 },
 "nbformat": 4,
 "nbformat_minor": 2
}
